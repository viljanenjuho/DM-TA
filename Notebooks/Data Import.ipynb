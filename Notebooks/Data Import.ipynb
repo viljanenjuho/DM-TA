{
 "cells": [
  {
   "cell_type": "markdown",
   "metadata": {},
   "source": [
    "Import the Data"
   ]
  },
  {
   "cell_type": "code",
   "execution_count": null,
   "metadata": {},
   "outputs": [],
   "source": [
    "import kaggle\n",
    "import os\n",
    "from kaggle.api.kaggle_api_extended import KaggleApi\n",
    "import zipfile\n",
    "\n",
    "COMP = \"brain-to-text-25\"             # competition slug\n",
    "TARGET_DIR = \"data/brain-to-text-25\"  # where to save files\n",
    "os.makedirs(TARGET_DIR, exist_ok=True)\n",
    "\n",
    "# Authenticate using ~/.kaggle/kaggle.json or env vars\n",
    "api = KaggleApi()\n",
    "api.authenticate()\n",
    "\n",
    "# Download all competition files as a single zip into TARGET_DIR\n",
    "api.competition_download_files(COMP, path=TARGET_DIR, force=True, quiet=False)\n",
    "\n",
    "# Unzip the archive (Kaggle names it <comp>.zip in TARGET_DIR)\n",
    "zip_path = os.path.join(TARGET_DIR, f\"{COMP}.zip\")\n",
    "with zipfile.ZipFile(zip_path, \"r\") as z:\n",
    "    z.extractall(TARGET_DIR)\n",
    "\n",
    "# (Optional) remove the zip and list what you got\n",
    "os.remove(zip_path)\n",
    "for root, _, files in os.walk(TARGET_DIR):\n",
    "    for f in files:\n",
    "        print(os.path.join(root, f))\n"
   ]
  },
  {
   "cell_type": "code",
   "execution_count": 1,
   "metadata": {},
   "outputs": [],
   "source": [
    "import h5py\n",
    "\n",
    "def load_h5py_file(file_path):\n",
    "    data = {\n",
    "        'neural_features': [],\n",
    "        'n_time_steps': [],\n",
    "        'seq_class_ids': [],\n",
    "        'seq_len': [],\n",
    "        'transcriptions': [],\n",
    "        'sentence_label': [],\n",
    "        'session': [],\n",
    "        'block_num': [],\n",
    "        'trial_num': [],\n",
    "    }\n",
    "    # Open the hdf5 file for that day\n",
    "    with h5py.File(file_path, 'r') as f:\n",
    "\n",
    "        keys = list(f.keys())\n",
    "\n",
    "        # For each trial in the selected trials in that day\n",
    "        for key in keys:\n",
    "            g = f[key]\n",
    "\n",
    "            neural_features = g['input_features'][:]\n",
    "            n_time_steps = g.attrs['n_time_steps']\n",
    "            seq_class_ids = g['seq_class_ids'][:] if 'seq_class_ids' in g else None\n",
    "            seq_len = g.attrs['seq_len'] if 'seq_len' in g.attrs else None\n",
    "            transcription = g['transcription'][:] if 'transcription' in g else None\n",
    "            sentence_label = g.attrs['sentence_label'][:] if 'sentence_label' in g.attrs else None\n",
    "            session = g.attrs['session']\n",
    "            block_num = g.attrs['block_num']\n",
    "            trial_num = g.attrs['trial_num']\n",
    "\n",
    "            data['neural_features'].append(neural_features)\n",
    "            data['n_time_steps'].append(n_time_steps)\n",
    "            data['seq_class_ids'].append(seq_class_ids)\n",
    "            data['seq_len'].append(seq_len)\n",
    "            data['transcriptions'].append(transcription)\n",
    "            data['sentence_label'].append(sentence_label)\n",
    "            data['session'].append(session)\n",
    "            data['block_num'].append(block_num)\n",
    "            data['trial_num'].append(trial_num)\n",
    "    return data\n"
   ]
  },
  {
   "cell_type": "code",
   "execution_count": 11,
   "metadata": {},
   "outputs": [
    {
     "name": "stdout",
     "output_type": "stream",
     "text": [
      "Top-level keys: ['trial_0000', 'trial_0001', 'trial_0002', 'trial_0003', 'trial_0004', 'trial_0005', 'trial_0006', 'trial_0007', 'trial_0008', 'trial_0009', 'trial_0010', 'trial_0011', 'trial_0012', 'trial_0013', 'trial_0014', 'trial_0015', 'trial_0016', 'trial_0017', 'trial_0018', 'trial_0019', 'trial_0020', 'trial_0021', 'trial_0022', 'trial_0023', 'trial_0024', 'trial_0025', 'trial_0026', 'trial_0027', 'trial_0028', 'trial_0029', 'trial_0030', 'trial_0031', 'trial_0032', 'trial_0033', 'trial_0034', 'trial_0035', 'trial_0036', 'trial_0037', 'trial_0038', 'trial_0039', 'trial_0040', 'trial_0041', 'trial_0042', 'trial_0043', 'trial_0044', 'trial_0045', 'trial_0046', 'trial_0047', 'trial_0048', 'trial_0049', 'trial_0050', 'trial_0051', 'trial_0052', 'trial_0053', 'trial_0054', 'trial_0055', 'trial_0056', 'trial_0057', 'trial_0058', 'trial_0059', 'trial_0060', 'trial_0061', 'trial_0062', 'trial_0063', 'trial_0064', 'trial_0065', 'trial_0066', 'trial_0067', 'trial_0068', 'trial_0069', 'trial_0070', 'trial_0071', 'trial_0072', 'trial_0073', 'trial_0074', 'trial_0075', 'trial_0076', 'trial_0077', 'trial_0078', 'trial_0079', 'trial_0080', 'trial_0081', 'trial_0082', 'trial_0083', 'trial_0084', 'trial_0085', 'trial_0086', 'trial_0087', 'trial_0088', 'trial_0089', 'trial_0090', 'trial_0091', 'trial_0092', 'trial_0093', 'trial_0094', 'trial_0095', 'trial_0096', 'trial_0097', 'trial_0098', 'trial_0099', 'trial_0100', 'trial_0101', 'trial_0102', 'trial_0103', 'trial_0104', 'trial_0105', 'trial_0106', 'trial_0107', 'trial_0108', 'trial_0109', 'trial_0110', 'trial_0111', 'trial_0112', 'trial_0113', 'trial_0114', 'trial_0115', 'trial_0116', 'trial_0117', 'trial_0118', 'trial_0119', 'trial_0120', 'trial_0121', 'trial_0122', 'trial_0123', 'trial_0124', 'trial_0125', 'trial_0126', 'trial_0127', 'trial_0128', 'trial_0129', 'trial_0130', 'trial_0131', 'trial_0132', 'trial_0133', 'trial_0134', 'trial_0135', 'trial_0136', 'trial_0137', 'trial_0138', 'trial_0139', 'trial_0140', 'trial_0141', 'trial_0142', 'trial_0143', 'trial_0144', 'trial_0145', 'trial_0146', 'trial_0147', 'trial_0148', 'trial_0149', 'trial_0150', 'trial_0151', 'trial_0152', 'trial_0153', 'trial_0154', 'trial_0155', 'trial_0156', 'trial_0157', 'trial_0158', 'trial_0159', 'trial_0160', 'trial_0161', 'trial_0162', 'trial_0163', 'trial_0164', 'trial_0165', 'trial_0166', 'trial_0167', 'trial_0168', 'trial_0169', 'trial_0170', 'trial_0171', 'trial_0172', 'trial_0173', 'trial_0174', 'trial_0175', 'trial_0176', 'trial_0177', 'trial_0178', 'trial_0179', 'trial_0180', 'trial_0181', 'trial_0182', 'trial_0183', 'trial_0184', 'trial_0185', 'trial_0186', 'trial_0187', 'trial_0188', 'trial_0189', 'trial_0190', 'trial_0191', 'trial_0192', 'trial_0193', 'trial_0194', 'trial_0195', 'trial_0196', 'trial_0197', 'trial_0198', 'trial_0199', 'trial_0200', 'trial_0201', 'trial_0202', 'trial_0203', 'trial_0204', 'trial_0205', 'trial_0206', 'trial_0207', 'trial_0208', 'trial_0209', 'trial_0210', 'trial_0211', 'trial_0212', 'trial_0213', 'trial_0214', 'trial_0215', 'trial_0216', 'trial_0217', 'trial_0218', 'trial_0219', 'trial_0220', 'trial_0221', 'trial_0222', 'trial_0223', 'trial_0224', 'trial_0225', 'trial_0226', 'trial_0227', 'trial_0228', 'trial_0229', 'trial_0230', 'trial_0231', 'trial_0232', 'trial_0233', 'trial_0234', 'trial_0235', 'trial_0236', 'trial_0237', 'trial_0238', 'trial_0239', 'trial_0240', 'trial_0241', 'trial_0242', 'trial_0243', 'trial_0244', 'trial_0245', 'trial_0246', 'trial_0247', 'trial_0248', 'trial_0249', 'trial_0250', 'trial_0251', 'trial_0252', 'trial_0253', 'trial_0254', 'trial_0255', 'trial_0256', 'trial_0257', 'trial_0258', 'trial_0259', 'trial_0260', 'trial_0261', 'trial_0262', 'trial_0263', 'trial_0264', 'trial_0265', 'trial_0266', 'trial_0267', 'trial_0268', 'trial_0269', 'trial_0270', 'trial_0271', 'trial_0272', 'trial_0273', 'trial_0274', 'trial_0275', 'trial_0276', 'trial_0277', 'trial_0278', 'trial_0279', 'trial_0280', 'trial_0281', 'trial_0282', 'trial_0283', 'trial_0284', 'trial_0285', 'trial_0286', 'trial_0287']\n"
     ]
    }
   ],
   "source": [
    "import h5py\n",
    "\n",
    "file_path = \"data/brain-to-text-25/t15_copyTask_neuralData/hdf5_data_final/t15.2023.08.11/data_train.hdf5\"\n",
    "\n",
    "with h5py.File(file_path, \"r\") as f:\n",
    "    print(\"Top-level keys:\", list(f.keys()))\n"
   ]
  },
  {
   "cell_type": "code",
   "execution_count": 9,
   "metadata": {},
   "outputs": [
    {
     "name": "stdout",
     "output_type": "stream",
     "text": [
      "Keys: ['trial_0000', 'trial_0001', 'trial_0002', 'trial_0003', 'trial_0004', 'trial_0005', 'trial_0006', 'trial_0007', 'trial_0008', 'trial_0009', 'trial_0010', 'trial_0011', 'trial_0012', 'trial_0013', 'trial_0014', 'trial_0015', 'trial_0016', 'trial_0017', 'trial_0018', 'trial_0019', 'trial_0020', 'trial_0021', 'trial_0022', 'trial_0023', 'trial_0024', 'trial_0025', 'trial_0026', 'trial_0027', 'trial_0028', 'trial_0029', 'trial_0030', 'trial_0031', 'trial_0032', 'trial_0033', 'trial_0034', 'trial_0035', 'trial_0036', 'trial_0037', 'trial_0038', 'trial_0039', 'trial_0040', 'trial_0041', 'trial_0042', 'trial_0043', 'trial_0044', 'trial_0045', 'trial_0046', 'trial_0047', 'trial_0048', 'trial_0049', 'trial_0050', 'trial_0051', 'trial_0052', 'trial_0053', 'trial_0054', 'trial_0055', 'trial_0056', 'trial_0057', 'trial_0058', 'trial_0059', 'trial_0060', 'trial_0061', 'trial_0062', 'trial_0063', 'trial_0064', 'trial_0065', 'trial_0066', 'trial_0067', 'trial_0068', 'trial_0069', 'trial_0070', 'trial_0071', 'trial_0072', 'trial_0073', 'trial_0074', 'trial_0075', 'trial_0076', 'trial_0077', 'trial_0078', 'trial_0079', 'trial_0080', 'trial_0081', 'trial_0082', 'trial_0083', 'trial_0084', 'trial_0085', 'trial_0086', 'trial_0087', 'trial_0088', 'trial_0089', 'trial_0090', 'trial_0091', 'trial_0092', 'trial_0093', 'trial_0094', 'trial_0095', 'trial_0096', 'trial_0097', 'trial_0098', 'trial_0099', 'trial_0100', 'trial_0101', 'trial_0102', 'trial_0103', 'trial_0104', 'trial_0105', 'trial_0106', 'trial_0107', 'trial_0108', 'trial_0109', 'trial_0110', 'trial_0111', 'trial_0112', 'trial_0113', 'trial_0114', 'trial_0115', 'trial_0116', 'trial_0117', 'trial_0118', 'trial_0119', 'trial_0120', 'trial_0121', 'trial_0122', 'trial_0123', 'trial_0124', 'trial_0125', 'trial_0126', 'trial_0127', 'trial_0128', 'trial_0129', 'trial_0130', 'trial_0131', 'trial_0132', 'trial_0133', 'trial_0134', 'trial_0135', 'trial_0136', 'trial_0137', 'trial_0138', 'trial_0139', 'trial_0140', 'trial_0141', 'trial_0142', 'trial_0143', 'trial_0144', 'trial_0145', 'trial_0146', 'trial_0147', 'trial_0148', 'trial_0149', 'trial_0150', 'trial_0151', 'trial_0152', 'trial_0153', 'trial_0154', 'trial_0155', 'trial_0156', 'trial_0157', 'trial_0158', 'trial_0159', 'trial_0160', 'trial_0161', 'trial_0162', 'trial_0163', 'trial_0164', 'trial_0165', 'trial_0166', 'trial_0167', 'trial_0168', 'trial_0169', 'trial_0170', 'trial_0171', 'trial_0172', 'trial_0173', 'trial_0174', 'trial_0175', 'trial_0176', 'trial_0177', 'trial_0178', 'trial_0179', 'trial_0180', 'trial_0181', 'trial_0182', 'trial_0183', 'trial_0184', 'trial_0185', 'trial_0186', 'trial_0187', 'trial_0188', 'trial_0189', 'trial_0190', 'trial_0191', 'trial_0192', 'trial_0193', 'trial_0194', 'trial_0195', 'trial_0196', 'trial_0197', 'trial_0198', 'trial_0199', 'trial_0200', 'trial_0201', 'trial_0202', 'trial_0203', 'trial_0204', 'trial_0205', 'trial_0206', 'trial_0207', 'trial_0208', 'trial_0209', 'trial_0210', 'trial_0211', 'trial_0212', 'trial_0213', 'trial_0214', 'trial_0215', 'trial_0216', 'trial_0217', 'trial_0218', 'trial_0219', 'trial_0220', 'trial_0221', 'trial_0222', 'trial_0223', 'trial_0224', 'trial_0225', 'trial_0226', 'trial_0227', 'trial_0228', 'trial_0229', 'trial_0230', 'trial_0231', 'trial_0232', 'trial_0233', 'trial_0234', 'trial_0235', 'trial_0236', 'trial_0237', 'trial_0238', 'trial_0239', 'trial_0240', 'trial_0241', 'trial_0242', 'trial_0243', 'trial_0244', 'trial_0245', 'trial_0246', 'trial_0247', 'trial_0248', 'trial_0249', 'trial_0250', 'trial_0251', 'trial_0252', 'trial_0253', 'trial_0254', 'trial_0255', 'trial_0256', 'trial_0257', 'trial_0258', 'trial_0259', 'trial_0260', 'trial_0261', 'trial_0262', 'trial_0263', 'trial_0264', 'trial_0265', 'trial_0266', 'trial_0267', 'trial_0268', 'trial_0269', 'trial_0270', 'trial_0271', 'trial_0272', 'trial_0273', 'trial_0274', 'trial_0275', 'trial_0276', 'trial_0277', 'trial_0278', 'trial_0279', 'trial_0280', 'trial_0281', 'trial_0282', 'trial_0283', 'trial_0284', 'trial_0285', 'trial_0286', 'trial_0287']\n"
     ]
    },
    {
     "ename": "KeyError",
     "evalue": "\"Unable to synchronously open object (object 'input_features' doesn't exist)\"",
     "output_type": "error",
     "traceback": [
      "\u001b[31m---------------------------------------------------------------------------\u001b[39m",
      "\u001b[31mKeyError\u001b[39m                                  Traceback (most recent call last)",
      "\u001b[36mCell\u001b[39m\u001b[36m \u001b[39m\u001b[32mIn[9]\u001b[39m\u001b[32m, line 7\u001b[39m\n\u001b[32m      5\u001b[39m \u001b[38;5;28;01mwith\u001b[39;00m h5py.File(file_path, \u001b[33m\"\u001b[39m\u001b[33mr\u001b[39m\u001b[33m\"\u001b[39m) \u001b[38;5;28;01mas\u001b[39;00m f:\n\u001b[32m      6\u001b[39m     \u001b[38;5;28mprint\u001b[39m(\u001b[33m\"\u001b[39m\u001b[33mKeys:\u001b[39m\u001b[33m\"\u001b[39m, \u001b[38;5;28mlist\u001b[39m(f.keys()))\n\u001b[32m----> \u001b[39m\u001b[32m7\u001b[39m     dset = \u001b[43mf\u001b[49m\u001b[43m[\u001b[49m\u001b[33;43m\"\u001b[39;49m\u001b[33;43minput_features\u001b[39;49m\u001b[33;43m\"\u001b[39;49m\u001b[43m]\u001b[49m      \u001b[38;5;66;03m# replace if key differs\u001b[39;00m\n\u001b[32m      8\u001b[39m     \u001b[38;5;28mprint\u001b[39m(\u001b[33m\"\u001b[39m\u001b[33mShape:\u001b[39m\u001b[33m\"\u001b[39m, dset.shape)\n\u001b[32m      9\u001b[39m     \u001b[38;5;28mprint\u001b[39m(\u001b[33m\"\u001b[39m\u001b[33mFirst row (10 values):\u001b[39m\u001b[33m\"\u001b[39m, dset[\u001b[32m0\u001b[39m][:\u001b[32m10\u001b[39m])\n",
      "\u001b[36mFile \u001b[39m\u001b[32mh5py/_objects.pyx:56\u001b[39m, in \u001b[36mh5py._objects.with_phil.wrapper\u001b[39m\u001b[34m()\u001b[39m\n",
      "\u001b[36mFile \u001b[39m\u001b[32mh5py/_objects.pyx:57\u001b[39m, in \u001b[36mh5py._objects.with_phil.wrapper\u001b[39m\u001b[34m()\u001b[39m\n",
      "\u001b[36mFile \u001b[39m\u001b[32m~/Library/Mobile Documents/com~apple~CloudDocs/opiskelu/Studies/Data Mining/DM-TA/.venv/lib/python3.13/site-packages/h5py/_hl/group.py:360\u001b[39m, in \u001b[36mGroup.__getitem__\u001b[39m\u001b[34m(self, name)\u001b[39m\n\u001b[32m    358\u001b[39m         \u001b[38;5;28;01mraise\u001b[39;00m \u001b[38;5;167;01mValueError\u001b[39;00m(\u001b[33m\"\u001b[39m\u001b[33mInvalid HDF5 object reference\u001b[39m\u001b[33m\"\u001b[39m)\n\u001b[32m    359\u001b[39m \u001b[38;5;28;01melif\u001b[39;00m \u001b[38;5;28misinstance\u001b[39m(name, (\u001b[38;5;28mbytes\u001b[39m, \u001b[38;5;28mstr\u001b[39m)):\n\u001b[32m--> \u001b[39m\u001b[32m360\u001b[39m     oid = \u001b[43mh5o\u001b[49m\u001b[43m.\u001b[49m\u001b[43mopen\u001b[49m\u001b[43m(\u001b[49m\u001b[38;5;28;43mself\u001b[39;49m\u001b[43m.\u001b[49m\u001b[43mid\u001b[49m\u001b[43m,\u001b[49m\u001b[43m \u001b[49m\u001b[38;5;28;43mself\u001b[39;49m\u001b[43m.\u001b[49m\u001b[43m_e\u001b[49m\u001b[43m(\u001b[49m\u001b[43mname\u001b[49m\u001b[43m)\u001b[49m\u001b[43m,\u001b[49m\u001b[43m \u001b[49m\u001b[43mlapl\u001b[49m\u001b[43m=\u001b[49m\u001b[38;5;28;43mself\u001b[39;49m\u001b[43m.\u001b[49m\u001b[43m_lapl\u001b[49m\u001b[43m)\u001b[49m\n\u001b[32m    361\u001b[39m \u001b[38;5;28;01melse\u001b[39;00m:\n\u001b[32m    362\u001b[39m     \u001b[38;5;28;01mraise\u001b[39;00m \u001b[38;5;167;01mTypeError\u001b[39;00m(\u001b[33m\"\u001b[39m\u001b[33mAccessing a group is done with bytes or str, \u001b[39m\u001b[33m\"\u001b[39m\n\u001b[32m    363\u001b[39m                     \u001b[33m\"\u001b[39m\u001b[33mnot \u001b[39m\u001b[38;5;132;01m{}\u001b[39;00m\u001b[33m\"\u001b[39m.format(\u001b[38;5;28mtype\u001b[39m(name)))\n",
      "\u001b[36mFile \u001b[39m\u001b[32mh5py/_objects.pyx:56\u001b[39m, in \u001b[36mh5py._objects.with_phil.wrapper\u001b[39m\u001b[34m()\u001b[39m\n",
      "\u001b[36mFile \u001b[39m\u001b[32mh5py/_objects.pyx:57\u001b[39m, in \u001b[36mh5py._objects.with_phil.wrapper\u001b[39m\u001b[34m()\u001b[39m\n",
      "\u001b[36mFile \u001b[39m\u001b[32mh5py/h5o.pyx:257\u001b[39m, in \u001b[36mh5py.h5o.open\u001b[39m\u001b[34m()\u001b[39m\n",
      "\u001b[31mKeyError\u001b[39m: \"Unable to synchronously open object (object 'input_features' doesn't exist)\""
     ]
    }
   ],
   "source": [
    "import h5py\n",
    "\n",
    "file_path = \"data/brain-to-text-25/t15_copyTask_neuralData/hdf5_data_final/t15.2023.08.11/data_train.hdf5\"\n",
    "\n",
    "with h5py.File(file_path, \"r\") as f:\n",
    "    print(\"Keys:\", list(f.keys()))\n",
    "    dset = f[\"input_features\"]      # replace if key differs\n",
    "    print(\"Shape:\", dset.shape)\n",
    "    print(\"First row (10 values):\", dset[0][:10])\n"
   ]
  }
 ],
 "metadata": {
  "kernelspec": {
   "display_name": ".venv",
   "language": "python",
   "name": "python3"
  },
  "language_info": {
   "codemirror_mode": {
    "name": "ipython",
    "version": 3
   },
   "file_extension": ".py",
   "mimetype": "text/x-python",
   "name": "python",
   "nbconvert_exporter": "python",
   "pygments_lexer": "ipython3",
   "version": "3.13.2"
  }
 },
 "nbformat": 4,
 "nbformat_minor": 2
}
