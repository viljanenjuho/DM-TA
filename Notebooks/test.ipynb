{
 "cells": [
  {
   "cell_type": "code",
   "execution_count": 4,
   "metadata": {},
   "outputs": [
    {
     "name": "stdout",
     "output_type": "stream",
     "text": [
      "Collecting torch\n",
      "  Downloading torch-2.8.0-cp313-none-macosx_11_0_arm64.whl.metadata (30 kB)\n",
      "Collecting filelock (from torch)\n",
      "  Downloading filelock-3.19.1-py3-none-any.whl.metadata (2.1 kB)\n",
      "Collecting typing-extensions>=4.10.0 (from torch)\n",
      "  Downloading typing_extensions-4.15.0-py3-none-any.whl.metadata (3.3 kB)\n",
      "Requirement already satisfied: setuptools in ./.venv/lib/python3.13/site-packages (from torch) (80.9.0)\n",
      "Collecting sympy>=1.13.3 (from torch)\n",
      "  Using cached sympy-1.14.0-py3-none-any.whl.metadata (12 kB)\n",
      "Collecting networkx (from torch)\n",
      "  Downloading networkx-3.5-py3-none-any.whl.metadata (6.3 kB)\n",
      "Collecting jinja2 (from torch)\n",
      "  Using cached jinja2-3.1.6-py3-none-any.whl.metadata (2.9 kB)\n",
      "Collecting fsspec (from torch)\n",
      "  Downloading fsspec-2025.9.0-py3-none-any.whl.metadata (10 kB)\n",
      "Collecting mpmath<1.4,>=1.1.0 (from sympy>=1.13.3->torch)\n",
      "  Using cached mpmath-1.3.0-py3-none-any.whl.metadata (8.6 kB)\n",
      "Collecting MarkupSafe>=2.0 (from jinja2->torch)\n",
      "  Downloading markupsafe-3.0.3-cp313-cp313-macosx_11_0_arm64.whl.metadata (2.7 kB)\n",
      "Downloading torch-2.8.0-cp313-none-macosx_11_0_arm64.whl (73.6 MB)\n",
      "\u001b[2K   \u001b[90m━━━━━━━━━━━━━━━━━━━━━━━━━━━━━━━━━━━━━━━━\u001b[0m \u001b[32m73.6/73.6 MB\u001b[0m \u001b[31m44.8 MB/s\u001b[0m  \u001b[33m0:00:01\u001b[0mm0:00:01\u001b[0m00:01\u001b[0m\n",
      "\u001b[?25hUsing cached sympy-1.14.0-py3-none-any.whl (6.3 MB)\n",
      "Using cached mpmath-1.3.0-py3-none-any.whl (536 kB)\n",
      "Downloading typing_extensions-4.15.0-py3-none-any.whl (44 kB)\n",
      "Downloading filelock-3.19.1-py3-none-any.whl (15 kB)\n",
      "Downloading fsspec-2025.9.0-py3-none-any.whl (199 kB)\n",
      "Using cached jinja2-3.1.6-py3-none-any.whl (134 kB)\n",
      "Downloading markupsafe-3.0.3-cp313-cp313-macosx_11_0_arm64.whl (12 kB)\n",
      "Downloading networkx-3.5-py3-none-any.whl (2.0 MB)\n",
      "\u001b[2K   \u001b[90m━━━━━━━━━━━━━━━━━━━━━━━━━━━━━━━━━━━━━━━━\u001b[0m \u001b[32m2.0/2.0 MB\u001b[0m \u001b[31m46.1 MB/s\u001b[0m  \u001b[33m0:00:00\u001b[0m\n",
      "\u001b[?25hInstalling collected packages: mpmath, typing-extensions, sympy, networkx, MarkupSafe, fsspec, filelock, jinja2, torch\n",
      "\u001b[2K   \u001b[90m━━━━━━━━━━━━━━━━━━━━━━━━━━━━━━━━━━━━━━━━\u001b[0m \u001b[32m9/9\u001b[0m [torch]32m8/9\u001b[0m [torch]]x]\n",
      "\u001b[1A\u001b[2KSuccessfully installed MarkupSafe-3.0.3 filelock-3.19.1 fsspec-2025.9.0 jinja2-3.1.6 mpmath-1.3.0 networkx-3.5 sympy-1.14.0 torch-2.8.0 typing-extensions-4.15.0\n"
     ]
    }
   ],
   "source": [
    "!pip install torch"
   ]
  },
  {
   "cell_type": "code",
   "execution_count": 6,
   "metadata": {},
   "outputs": [
    {
     "name": "stdout",
     "output_type": "stream",
     "text": [
      "Total trials across all days:\n",
      "Train: 8072\n",
      "Val: 1426\n",
      "Test: 1450\n"
     ]
    }
   ],
   "source": [
    "import os\n",
    "import h5py\n",
    "import torch\n",
    "from torch.utils.data import Dataset, ConcatDataset\n",
    "\n",
    "# ---- Your existing dataset class ----\n",
    "class BrainToTextDataset(Dataset):\n",
    "    def __init__(self, filepath, require_labels=True):\n",
    "        self.filepath = filepath\n",
    "        self.trials = []\n",
    "        self.require_labels = require_labels\n",
    "\n",
    "        with h5py.File(filepath, \"r\") as f:\n",
    "            for tkey in sorted(f.keys()):\n",
    "                feats = f[tkey][\"input_features\"][()]\n",
    "\n",
    "                if \"seq_class_ids\" in f[tkey]:\n",
    "                    labels = f[tkey][\"seq_class_ids\"][()]\n",
    "                else:\n",
    "                    if require_labels:\n",
    "                        # Skip trials with no labels if we expect them\n",
    "                        continue\n",
    "                    else:\n",
    "                        labels = np.array([])  # placeholder\n",
    "\n",
    "                self.trials.append((feats, labels))\n",
    "\n",
    "    def __len__(self):\n",
    "        return len(self.trials)\n",
    "\n",
    "    def __getitem__(self, idx):\n",
    "        x, y = self.trials[idx]\n",
    "        x = torch.tensor(x, dtype=torch.float32)\n",
    "        y = torch.tensor(y, dtype=torch.long) if len(y) > 0 else torch.tensor([])\n",
    "        return x, y\n",
    "\n",
    "\n",
    "# ---- Function to gather datasets across all days ----\n",
    "def load_all_days(base_dir):\n",
    "    train_sets, val_sets, test_sets = [], [], []\n",
    "\n",
    "    for day in sorted(os.listdir(base_dir)):\n",
    "        day_path = os.path.join(base_dir, day)\n",
    "        if not os.path.isdir(day_path):\n",
    "            continue\n",
    "\n",
    "        train_file = os.path.join(day_path, \"data_train.hdf5\")\n",
    "        val_file   = os.path.join(day_path, \"data_val.hdf5\")\n",
    "        test_file  = os.path.join(day_path, \"data_test.hdf5\")\n",
    "\n",
    "        if os.path.exists(train_file):\n",
    "            train_sets.append(BrainToTextDataset(train_file, require_labels=True))\n",
    "        if os.path.exists(val_file):\n",
    "            val_sets.append(BrainToTextDataset(val_file, require_labels=True))\n",
    "        if os.path.exists(test_file):\n",
    "            test_sets.append(BrainToTextDataset(test_file, require_labels=False))  # test has no labels\n",
    "\n",
    "    train_ds = ConcatDataset(train_sets) if train_sets else None\n",
    "    val_ds   = ConcatDataset(val_sets) if val_sets else None\n",
    "    test_ds  = ConcatDataset(test_sets) if test_sets else None\n",
    "\n",
    "    return train_ds, val_ds, test_ds\n",
    "\n",
    "\n",
    "\n",
    "# ---- Usage ----\n",
    "base_dir = \"data/brain-to-text-25/t15_copyTask_neuralData/hdf5_data_final\"\n",
    "train_ds, val_ds, test_ds = load_all_days(base_dir)\n",
    "\n",
    "print(\"Total trials across all days:\")\n",
    "print(\"Train:\", len(train_ds) if train_ds else 0)\n",
    "print(\"Val:\", len(val_ds) if val_ds else 0)\n",
    "print(\"Test:\", len(test_ds) if test_ds else 0)\n"
   ]
  }
 ],
 "metadata": {
  "kernelspec": {
   "display_name": ".venv",
   "language": "python",
   "name": "python3"
  },
  "language_info": {
   "codemirror_mode": {
    "name": "ipython",
    "version": 3
   },
   "file_extension": ".py",
   "mimetype": "text/x-python",
   "name": "python",
   "nbconvert_exporter": "python",
   "pygments_lexer": "ipython3",
   "version": "3.13.2"
  }
 },
 "nbformat": 4,
 "nbformat_minor": 2
}
