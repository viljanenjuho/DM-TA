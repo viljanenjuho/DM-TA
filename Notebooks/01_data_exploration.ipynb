{
 "cells": [
  {
   "cell_type": "code",
   "execution_count": null,
   "metadata": {},
   "outputs": [
    {
     "ename": "",
     "evalue": "",
     "output_type": "error",
     "traceback": [
      "\u001b[1;31mFailed to start the Kernel. \n",
      "\u001b[1;31mUnable to start Kernel '.venv (Python 3.13.2)' due to a timeout waiting for the ports to get used. \n",
      "\u001b[1;31mView Jupyter <a href='command:jupyter.viewOutput'>log</a> for further details."
     ]
    }
   ],
   "source": [
    "import os\n",
    "import h5py\n",
    "import numpy as np\n",
    "\n",
    "# Base data path\n",
    "DATA_DIR = \"../data/brain-to-text-25/t15_copyTask_neuralData/hdf5_data_final\"\n",
    "\n",
    "# Pick one day and split\n",
    "DAY = \"t15.2023.08.13\"\n",
    "SPLIT = \"data_train.hdf5\"   # or data_val.hdf5 / data_test.hdf5\n",
    "\n",
    "EXAMPLE_FILE = os.path.join(DATA_DIR, DAY, SPLIT)\n",
    "print(\"Using file:\", EXAMPLE_FILE)\n"
   ]
  },
  {
   "cell_type": "code",
   "execution_count": null,
   "metadata": {},
   "outputs": [],
   "source": [
    "with h5py.File(EXAMPLE_FILE, \"r\") as f:\n",
    "    trial = f[\"trial_0000\"]\n",
    "    print(\"Keys in trial_0000:\", list(trial.keys()))\n",
    "    \n",
    "    # Load features and labels\n",
    "    feats = trial[\"input_features\"][()]\n",
    "    labels = trial[\"seq_class_ids\"][()]\n",
    "    \n",
    "    print(\"Feature shape:\", feats.shape)\n",
    "    print(\"Label length:\", len(labels))\n"
   ]
  },
  {
   "cell_type": "code",
   "execution_count": null,
   "metadata": {},
   "outputs": [],
   "source": [
    "print(\"First row of features:\", feats[0][:10])   # first 10 channels\n",
    "print(\"Labels:\", labels[:20])                   # first 20 labels\n"
   ]
  }
 ],
 "metadata": {
  "kernelspec": {
   "display_name": ".venv",
   "language": "python",
   "name": "python3"
  },
  "language_info": {
   "name": "python",
   "version": "3.13.2"
  }
 },
 "nbformat": 4,
 "nbformat_minor": 2
}
