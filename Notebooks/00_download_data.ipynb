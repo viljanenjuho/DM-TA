{
 "cells": [
  {
   "cell_type": "code",
   "execution_count": 1,
   "metadata": {},
   "outputs": [
    {
     "name": "stdout",
     "output_type": "stream",
     "text": [
      "total 8\n",
      "-rw-------@ 1 juhoviljanen  staff  70 May 11 18:38 kaggle.json\n"
     ]
    }
   ],
   "source": [
    "import os\n",
    "\n",
    "# Make sure Kaggle API token is available\n",
    "os.environ[\"KAGGLE_CONFIG_DIR\"] = os.path.expanduser(\"~/.kaggle\")\n",
    "!ls -l ~/.kaggle"
   ]
  },
  {
   "cell_type": "code",
   "execution_count": 5,
   "metadata": {},
   "outputs": [],
   "source": [
    "# Create a local data folder\n",
    "os.makedirs(\"../data/brain-to-text-25\", exist_ok=True)"
   ]
  },
  {
   "cell_type": "code",
   "execution_count": null,
   "metadata": {},
   "outputs": [
    {
     "name": "stdout",
     "output_type": "stream",
     "text": [
      "Downloading brain-to-text-25.zip to data/brain-to-text-25\n",
      "Python(35909) MallocStackLogging: can't turn off malloc stack logging because it was not enabled.\n",
      "100%|█████████████████████████████████████▉| 10.7G/10.8G [01:40<00:00, 96.5MB/s]\n",
      "100%|███████████████████████████████████████| 10.8G/10.8G [01:40<00:00, 115MB/s]\n"
     ]
    }
   ],
   "source": [
    "# Download dataset zip from Kaggle competition\n",
    "!kaggle competitions download -c brain-to-text-25 -p ../data/brain-to-text-25\n"
   ]
  },
  {
   "cell_type": "code",
   "execution_count": 7,
   "metadata": {},
   "outputs": [],
   "source": [
    "# Unzip into data/brain-to-text-25/\n",
    "!unzip -q ../data/brain-to-text-25/brain-to-text-25.zip -d ../data/brain-to-text-25\n"
   ]
  },
  {
   "cell_type": "code",
   "execution_count": 10,
   "metadata": {},
   "outputs": [
    {
     "name": "stdout",
     "output_type": "stream",
     "text": [
      "brain-to-text-25.zip        \u001b[34mt15_copyTask_neuralData\u001b[m\u001b[m\n",
      "data_link.txt               \u001b[34mt15_pretrained_rnn_baseline\u001b[m\u001b[m\n"
     ]
    }
   ],
   "source": [
    "# List extracted files to confirm\n",
    "!ls ../data/brain-to-text-25\n"
   ]
  }
 ],
 "metadata": {
  "kernelspec": {
   "display_name": ".venv",
   "language": "python",
   "name": "python3"
  },
  "language_info": {
   "codemirror_mode": {
    "name": "ipython",
    "version": 3
   },
   "file_extension": ".py",
   "mimetype": "text/x-python",
   "name": "python",
   "nbconvert_exporter": "python",
   "pygments_lexer": "ipython3",
   "version": "3.13.2"
  }
 },
 "nbformat": 4,
 "nbformat_minor": 2
}
