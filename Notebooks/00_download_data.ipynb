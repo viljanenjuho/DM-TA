{
 "cells": [
  {
   "cell_type": "code",
   "execution_count": 1,
   "metadata": {},
   "outputs": [
    {
     "name": "stdout",
     "output_type": "stream",
     "text": [
      "total 8\n",
      "-rw-------@ 1 juhoviljanen  staff  70 May 11 18:38 kaggle.json\n"
     ]
    }
   ],
   "source": [
    "import os\n",
    "\n",
    "# Make sure Kaggle API token is available\n",
    "os.environ[\"KAGGLE_CONFIG_DIR\"] = os.path.expanduser(\"~/.kaggle\")\n",
    "!ls -l ~/.kaggle"
   ]
  },
  {
   "cell_type": "code",
   "execution_count": 2,
   "metadata": {},
   "outputs": [],
   "source": [
    "# Create a local data folder\n",
    "os.makedirs(\"../data/brain-to-text-25\", exist_ok=True)"
   ]
  },
  {
   "cell_type": "code",
   "execution_count": 3,
   "metadata": {},
   "outputs": [
    {
     "name": "stdout",
     "output_type": "stream",
     "text": [
      "Downloading brain-to-text-25.zip to ../data/brain-to-text-25\n",
      "100%|██████████████████████████████████████▉| 10.7G/10.8G [01:28<00:00, 183MB/s]\n",
      "100%|███████████████████████████████████████| 10.8G/10.8G [01:28<00:00, 130MB/s]\n"
     ]
    }
   ],
   "source": [
    "# Download dataset zip from Kaggle competition\n",
    "!kaggle competitions download -c brain-to-text-25 -p ../data/brain-to-text-25\n"
   ]
  },
  {
   "cell_type": "code",
   "execution_count": 4,
   "metadata": {},
   "outputs": [],
   "source": [
    "# Unzip into data/brain-to-text-25/\n",
    "!unzip -q ../data/brain-to-text-25/brain-to-text-25.zip -d ../data/brain-to-text-25\n"
   ]
  },
  {
   "cell_type": "code",
   "execution_count": 5,
   "metadata": {},
   "outputs": [
    {
     "name": "stdout",
     "output_type": "stream",
     "text": [
      "brain-to-text-25.zip        \u001b[34mt15_copyTask_neuralData\u001b[m\u001b[m\n",
      "data_link.txt               \u001b[34mt15_pretrained_rnn_baseline\u001b[m\u001b[m\n"
     ]
    }
   ],
   "source": [
    "# List extracted files to confirm\n",
    "!ls ../data/brain-to-text-25\n"
   ]
  },
  {
   "cell_type": "code",
   "execution_count": 6,
   "metadata": {},
   "outputs": [
    {
     "name": "stdout",
     "output_type": "stream",
     "text": [
      "Using file: ../data/brain-to-text-25/t15_copyTask_neuralData/hdf5_data_final/t15.2023.08.13/data_train.hdf5\n"
     ]
    }
   ],
   "source": [
    "import os\n",
    "import h5py\n",
    "import numpy as np\n",
    "\n",
    "# Base data path\n",
    "DATA_DIR = \"../data/brain-to-text-25/t15_copyTask_neuralData/hdf5_data_final\"\n",
    "\n",
    "# Pick one day and split\n",
    "DAY = \"t15.2023.08.13\"\n",
    "SPLIT = \"data_train.hdf5\"\n",
    "\n",
    "EXAMPLE_FILE = os.path.join(DATA_DIR, DAY, SPLIT)\n",
    "print(\"Using file:\", EXAMPLE_FILE)\n"
   ]
  }
 ],
 "metadata": {
  "kernelspec": {
   "display_name": ".venv",
   "language": "python",
   "name": "python3"
  },
  "language_info": {
   "codemirror_mode": {
    "name": "ipython",
    "version": 3
   },
   "file_extension": ".py",
   "mimetype": "text/x-python",
   "name": "python",
   "nbconvert_exporter": "python",
   "pygments_lexer": "ipython3",
   "version": "3.13.2"
  }
 },
 "nbformat": 4,
 "nbformat_minor": 2
}
