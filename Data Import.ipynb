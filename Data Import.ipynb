{
 "cells": [
  {
   "cell_type": "code",
   "execution_count": null,
   "metadata": {},
   "outputs": [],
   "source": [
    "import kaggle"
   ]
  },
  {
   "cell_type": "code",
   "execution_count": null,
   "metadata": {},
   "outputs": [],
   "source": [
    "import os\n",
    "from kaggle.api.kaggle_api_extended import KaggleApi\n",
    "import zipfile\n",
    "\n",
    "COMP = \"brain-to-text-25\"             # competition slug\n",
    "TARGET_DIR = \"data/brain-to-text-25\"  # where to save files\n",
    "os.makedirs(TARGET_DIR, exist_ok=True)\n",
    "\n",
    "# Authenticate using ~/.kaggle/kaggle.json or env vars\n",
    "api = KaggleApi()\n",
    "api.authenticate()\n",
    "\n",
    "# Download all competition files as a single zip into TARGET_DIR\n",
    "api.competition_download_files(COMP, path=TARGET_DIR, force=True, quiet=False)\n",
    "\n",
    "# Unzip the archive (Kaggle names it <comp>.zip in TARGET_DIR)\n",
    "zip_path = os.path.join(TARGET_DIR, f\"{COMP}.zip\")\n",
    "with zipfile.ZipFile(zip_path, \"r\") as z:\n",
    "    z.extractall(TARGET_DIR)\n",
    "\n",
    "# (Optional) remove the zip and list what you got\n",
    "os.remove(zip_path)\n",
    "for root, _, files in os.walk(TARGET_DIR):\n",
    "    for f in files:\n",
    "        print(os.path.join(root, f))\n"
   ]
  }
 ],
 "metadata": {
  "kernelspec": {
   "display_name": ".venv",
   "language": "python",
   "name": "python3"
  },
  "language_info": {
   "name": "python",
   "version": "3.13.2"
  }
 },
 "nbformat": 4,
 "nbformat_minor": 2
}
